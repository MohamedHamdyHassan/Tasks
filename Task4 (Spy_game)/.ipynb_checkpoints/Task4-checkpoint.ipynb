{
 "cells": [
  {
   "cell_type": "markdown",
   "metadata": {},
   "source": [
    "## <p style=\"color:red;\"> SPY GAME: Write a function that takes in a list of integers and returns True if it contains 007 in order</p>\n",
    "\n",
    ">spy_game([1,2,4,0,0,7,5]) → True\n",
    "\n",
    "> spy_game([1,0,2,4,0,5,7]) → True\n",
    "\n",
    " >spy_game([1,7,2,0,4,5,0]) → False\n"
   ]
  },
  {
   "cell_type": "code",
   "execution_count": 12,
   "metadata": {},
   "outputs": [],
   "source": [
    "def spy_game(l):\n",
    "    result=[]\n",
    "    for i in range(len(l)):\n",
    "        if l[i]==0 and len(result)<2:\n",
    "            result.append(l[i])\n",
    "\n",
    "        elif l[i]==7 and result==[0,0]:\n",
    "            result.append(l[i])\n",
    "            return True\n",
    "    \n",
    "    return False"
   ]
  },
  {
   "cell_type": "code",
   "execution_count": 18,
   "metadata": {},
   "outputs": [
    {
     "data": {
      "text/plain": [
       "True"
      ]
     },
     "execution_count": 18,
     "metadata": {},
     "output_type": "execute_result"
    }
   ],
   "source": [
    "spy_game([1,0,4,7,0,5,0,7])"
   ]
  }
 ],
 "metadata": {
  "kernelspec": {
   "display_name": "Python 3",
   "language": "python",
   "name": "python3"
  },
  "language_info": {
   "codemirror_mode": {
    "name": "ipython",
    "version": 3
   },
   "file_extension": ".py",
   "mimetype": "text/x-python",
   "name": "python",
   "nbconvert_exporter": "python",
   "pygments_lexer": "ipython3",
   "version": "3.7.6"
  }
 },
 "nbformat": 4,
 "nbformat_minor": 4
}
