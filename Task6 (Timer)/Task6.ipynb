{
 "cells": [
  {
   "cell_type": "markdown",
   "metadata": {},
   "source": [
    "### Description \n",
    "> #### In this project, we will be using the time module and its sleep() function. Follow the below steps to create a countdown timer:\n",
    "\n",
    "- Step 1: Import the time module.\n",
    "- Step 2: Then ask the user to input the length of the countdown in seconds.\n",
    "- Step 3: This value is sent as a parameter ‘t’ to the user-defined function countdown(). Any variable read using the input function is a string. So, convert this parameter to ‘int’ as it is of string type.\n",
    "- Step 4: In this function, a while loop runs until time becomes 0.\n",
    "- Step 5: Use divmod() to calculate the number of minutes and seconds. You can read more about it here.\n",
    "- Step 6: Now print the minutes and seconds on the screen using the variable timeformat.\n",
    "- Step 7: Using end = ‘\\r’ we force the cursor to go back to the start of the screen (carriage return) so that the next line printed will overwrite the previous one.\n",
    "- Step 8: The time.sleep() is used to make the code wait for one sec.\n",
    "- Step 9: Now decrement time so that the while loop can converge.\n",
    "- Step 10: After the completion of the loop, we will print “Fire in the hole” to signify the end of the countdown."
   ]
  },
  {
   "cell_type": "code",
   "execution_count": 1,
   "metadata": {},
   "outputs": [],
   "source": [
    "import time"
   ]
  },
  {
   "cell_type": "code",
   "execution_count": 4,
   "metadata": {},
   "outputs": [],
   "source": [
    "def countdown(t):\n",
    "#t=int(input('Enter the length of the countdown in seconds: '))\n",
    "    while t:\n",
    "        minutes,seconds=divmod(t,60)\n",
    "        print(f'{minutes}:{seconds}')\n",
    "        time.sleep(1)\n",
    "        t-=1\n",
    "\n",
    "    print('Fire in the hole')"
   ]
  },
  {
   "cell_type": "code",
   "execution_count": 5,
   "metadata": {},
   "outputs": [
    {
     "name": "stdout",
     "output_type": "stream",
     "text": [
      "1:10\n",
      "1:9\n",
      "1:8\n",
      "1:7\n",
      "1:6\n",
      "1:5\n",
      "1:4\n",
      "1:3\n",
      "1:2\n",
      "1:1\n",
      "1:0\n",
      "0:59\n",
      "0:58\n",
      "0:57\n",
      "0:56\n",
      "0:55\n",
      "0:54\n",
      "0:53\n",
      "0:52\n",
      "0:51\n",
      "0:50\n",
      "0:49\n",
      "0:48\n",
      "0:47\n",
      "0:46\n",
      "0:45\n",
      "0:44\n",
      "0:43\n",
      "0:42\n",
      "0:41\n",
      "0:40\n",
      "0:39\n",
      "0:38\n",
      "0:37\n",
      "0:36\n",
      "0:35\n",
      "0:34\n",
      "0:33\n",
      "0:32\n",
      "0:31\n",
      "0:30\n",
      "0:29\n",
      "0:28\n",
      "0:27\n",
      "0:26\n",
      "0:25\n",
      "0:24\n",
      "0:23\n",
      "0:22\n",
      "0:21\n",
      "0:20\n",
      "0:19\n",
      "0:18\n",
      "0:17\n",
      "0:16\n",
      "0:15\n",
      "0:14\n",
      "0:13\n",
      "0:12\n",
      "0:11\n",
      "0:10\n",
      "0:9\n",
      "0:8\n",
      "0:7\n",
      "0:6\n",
      "0:5\n",
      "0:4\n",
      "0:3\n",
      "0:2\n",
      "0:1\n",
      "Fire in the hole\n"
     ]
    }
   ],
   "source": [
    "countdown(70)"
   ]
  }
 ],
 "metadata": {
  "kernelspec": {
   "display_name": "Python 3",
   "language": "python",
   "name": "python3"
  },
  "language_info": {
   "codemirror_mode": {
    "name": "ipython",
    "version": 3
   },
   "file_extension": ".py",
   "mimetype": "text/x-python",
   "name": "python",
   "nbconvert_exporter": "python",
   "pygments_lexer": "ipython3",
   "version": "3.7.6"
  }
 },
 "nbformat": 4,
 "nbformat_minor": 4
}
