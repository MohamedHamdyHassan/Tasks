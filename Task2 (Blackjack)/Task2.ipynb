{
 "cells": [
  {
   "cell_type": "markdown",
   "metadata": {},
   "source": [
    "## <p style=\"color:orange;\">BLACKJACK: Given three integers between 1 and 11, if their sum is less than or equal to 21, return their sum. If their sum exceeds 21 and there's an eleven, reduce the total sum by 10. Finally, if the sum (even after adjustment) exceeds 21, return 'BUST'¶</p>\n",
    "\n",
    ">blackjack(5,6,7) → 18\n",
    "\n",
    ">blackjack(9,9,9) → 'BUST'\n",
    "\n",
    ">blackjack(9,9,11) → 19"
   ]
  },
  {
   "cell_type": "code",
   "execution_count": 1,
   "metadata": {},
   "outputs": [],
   "source": [
    "def blackjack(a,b,c):\n",
    "    s=a+b+c\n",
    "    if s<=21:\n",
    "        return s\n",
    "    elif s>21 and 11 in (a,b,c):\n",
    "        tot=s-10\n",
    "        if tot>21:\n",
    "            return 'BUST'\n",
    "        else:\n",
    "            return tot\n",
    "    else:\n",
    "        return 'BUST'\n",
    "    "
   ]
  },
  {
   "cell_type": "code",
   "execution_count": 2,
   "metadata": {},
   "outputs": [
    {
     "data": {
      "text/plain": [
       "19"
      ]
     },
     "execution_count": 2,
     "metadata": {},
     "output_type": "execute_result"
    }
   ],
   "source": [
    "blackjack(9,9,11)"
   ]
  },
  {
   "cell_type": "markdown",
   "metadata": {},
   "source": [
    "## Another Solution if the parameters in a list"
   ]
  },
  {
   "cell_type": "code",
   "execution_count": 3,
   "metadata": {},
   "outputs": [],
   "source": [
    "def blackjack1(l):\n",
    "    s=0\n",
    "    for i in l:\n",
    "        s+=i\n",
    "        if s<=21:\n",
    "            continue\n",
    "        elif s>21 and 11 in (l):\n",
    "            tot=s-10\n",
    "            if tot>21:\n",
    "                return 'BUST'\n",
    "            else:\n",
    "                return tot\n",
    "        else:\n",
    "            return 'BUST'\n",
    "    return s"
   ]
  },
  {
   "cell_type": "code",
   "execution_count": 4,
   "metadata": {},
   "outputs": [
    {
     "data": {
      "text/plain": [
       "18"
      ]
     },
     "execution_count": 4,
     "metadata": {},
     "output_type": "execute_result"
    }
   ],
   "source": [
    "blackjack1([5,6,7])"
   ]
  }
 ],
 "metadata": {
  "kernelspec": {
   "display_name": "Python 3",
   "language": "python",
   "name": "python3"
  },
  "language_info": {
   "codemirror_mode": {
    "name": "ipython",
    "version": 3
   },
   "file_extension": ".py",
   "mimetype": "text/x-python",
   "name": "python",
   "nbconvert_exporter": "python",
   "pygments_lexer": "ipython3",
   "version": "3.7.6"
  }
 },
 "nbformat": 4,
 "nbformat_minor": 4
}
